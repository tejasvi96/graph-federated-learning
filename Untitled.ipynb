{
 "cells": [
  {
   "cell_type": "code",
   "execution_count": 3,
   "id": "emotional-graph",
   "metadata": {},
   "outputs": [
    {
     "name": "stdout",
     "output_type": "stream",
     "text": [
      "D:\\iisc\\FL\\graph-federated-learning"
     ]
    },
    {
     "name": "stderr",
     "output_type": "stream",
     "text": [
      "Traceback (most recent call last):\n",
      "  File \"Language_modelling_inference_colab.py\", line 471, in <module>\n",
      "    main(sys.argv[1:])\n",
      "  File \"Language_modelling_inference_colab.py\", line 438, in main\n",
      "    print(\"Algorithm Used for Training\", algo.upper())\n",
      "UnboundLocalError: local variable 'algo' referenced before assignment\n"
     ]
    },
    {
     "name": "stdout",
     "output_type": "stream",
     "text": [
      "\n"
     ]
    }
   ],
   "source": [
    "!python Language_modelling_inference_colab.py -s ' How re ' -l 2 -p 3 -t 'euro word_pred supreme Taskmaster movie' -a 'fedavg' -q 1 -k 2 "
   ]
  },
  {
   "cell_type": "code",
   "execution_count": null,
   "id": "equipped-penguin",
   "metadata": {},
   "outputs": [],
   "source": []
  }
 ],
 "metadata": {
  "kernelspec": {
   "display_name": "jiant",
   "language": "python",
   "name": "jiant"
  },
  "language_info": {
   "codemirror_mode": {
    "name": "ipython",
    "version": 3
   },
   "file_extension": ".py",
   "mimetype": "text/x-python",
   "name": "python",
   "nbconvert_exporter": "python",
   "pygments_lexer": "ipython3",
   "version": "3.6.10"
  }
 },
 "nbformat": 4,
 "nbformat_minor": 5
}
